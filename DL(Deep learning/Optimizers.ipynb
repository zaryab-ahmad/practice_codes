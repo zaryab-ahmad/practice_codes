{
 "cells": [
  {
   "cell_type": "markdown",
   "id": "f43a8d4b",
   "metadata": {},
   "source": [
    "## Import Required Libraries"
   ]
  },
  {
   "cell_type": "code",
   "execution_count": 18,
   "id": "f0b21921",
   "metadata": {},
   "outputs": [],
   "source": [
    "import tensorflow as tf\n",
    "from tensorflow.keras.preprocessing.image import ImageDataGenerator\n",
    "from tensorflow.keras.models import Sequential\n",
    "from tensorflow.keras.layers import Dense, Flatten\n",
    "from tensorflow.keras.optimizers import Adam, SGD, RMSprop, Adagrad, Nadam\n",
    "from sklearn.model_selection import train_test_split\n",
    "import matplotlib.pyplot as plt\n",
    "import numpy as np"
   ]
  },
  {
   "cell_type": "markdown",
   "id": "b46e7816",
   "metadata": {},
   "source": [
    "## Explanation:\n",
    "\n",
    "#### TensorFlow and Keras: \n",
    "For building and training the neural network.\n",
    "#### ImageDataGenerator:\n",
    "For loading and augmenting image data.\n",
    "Sequential, Dense, Flatten: For creating and defining the neural network.\n",
    "#### Optimizers: \n",
    "To compare different optimization algorithms.\n",
    "##### train_test_split: \n",
    "To split the data into training and validation sets.\n",
    "#### matplotlib.pyplot: \n",
    "For plotting the results.\n",
    "#### numpy: \n",
    "For handling arrays and data manipulation."
   ]
  },
  {
   "cell_type": "markdown",
   "id": "29791308",
   "metadata": {},
   "source": [
    "### Load and Preprocess Image Data"
   ]
  },
  {
   "cell_type": "code",
   "execution_count": 19,
   "id": "1f5fe570",
   "metadata": {},
   "outputs": [
    {
     "name": "stdout",
     "output_type": "stream",
     "text": [
      "Found 5631 images belonging to 4 classes.\n"
     ]
    }
   ],
   "source": [
    "# Define the path to your dataset directory\n",
    "dataset_dir = \"D:\\ML A-Z\\DataSets\\satellite image Classes\"\n",
    "\n",
    "# Create an ImageDataGenerator for loading and normalizing images\n",
    "datagen = ImageDataGenerator(rescale=1./255)\n",
    "\n",
    "# Load the images from the dataset directory\n",
    "data_generator = datagen.flow_from_directory(\n",
    "    dataset_dir,\n",
    "    target_size=(150, 150),\n",
    "    batch_size=32,\n",
    "    class_mode='categorical',\n",
    "    shuffle=True,\n",
    "    seed=42\n",
    ")"
   ]
  },
  {
   "cell_type": "markdown",
   "id": "f592ee8f",
   "metadata": {},
   "source": [
    "### Explanation:\n",
    "\n",
    "**dataset_dir:** <br>\n",
    "Path to the root directory containing subdirectories for each class.\n",
    "**ImageDataGenerator:** <br>\n",
    "Normalizes pixel values to a range of [0, 1] by dividing by 255.\n",
    "**flow_from_directory:** <br>\n",
    "Loads images from the directory, resizes them to 150x150 pixels, and applies categorical encoding for labels."
   ]
  },
  {
   "cell_type": "markdown",
   "id": "1a95bb52",
   "metadata": {},
   "source": [
    "## Retrieve and Combine Data"
   ]
  },
  {
   "cell_type": "code",
   "execution_count": 20,
   "id": "1930e994",
   "metadata": {},
   "outputs": [
    {
     "name": "stdout",
     "output_type": "stream",
     "text": [
      "Found 5631 images belonging to 4 classes.\n"
     ]
    },
    {
     "ename": "MemoryError",
     "evalue": "Unable to allocate 700. MiB for an array with shape (2720, 150, 150, 3) and data type float32",
     "output_type": "error",
     "traceback": [
      "\u001b[1;31m---------------------------------------------------------------------------\u001b[0m",
      "\u001b[1;31mMemoryError\u001b[0m                               Traceback (most recent call last)",
      "Cell \u001b[1;32mIn[20], line 19\u001b[0m\n\u001b[0;32m     17\u001b[0m \u001b[38;5;28;01mfor\u001b[39;00m _ \u001b[38;5;129;01min\u001b[39;00m \u001b[38;5;28mrange\u001b[39m(data_generator\u001b[38;5;241m.\u001b[39msamples \u001b[38;5;241m/\u001b[39m\u001b[38;5;241m/\u001b[39m data_generator\u001b[38;5;241m.\u001b[39mbatch_size \u001b[38;5;241m-\u001b[39m \u001b[38;5;241m1\u001b[39m):\n\u001b[0;32m     18\u001b[0m     x_batch, y_batch \u001b[38;5;241m=\u001b[39m \u001b[38;5;28mnext\u001b[39m(data_generator)\n\u001b[1;32m---> 19\u001b[0m     x_data \u001b[38;5;241m=\u001b[39m np\u001b[38;5;241m.\u001b[39mvstack((x_data, x_batch))\n\u001b[0;32m     20\u001b[0m     y_data \u001b[38;5;241m=\u001b[39m np\u001b[38;5;241m.\u001b[39mvstack((y_data, y_batch))\n",
      "File \u001b[1;32m<__array_function__ internals>:180\u001b[0m, in \u001b[0;36mvstack\u001b[1;34m(*args, **kwargs)\u001b[0m\n",
      "File \u001b[1;32m~\\anaconda3\\Lib\\site-packages\\numpy\\core\\shape_base.py:282\u001b[0m, in \u001b[0;36mvstack\u001b[1;34m(tup)\u001b[0m\n\u001b[0;32m    280\u001b[0m \u001b[38;5;28;01mif\u001b[39;00m \u001b[38;5;129;01mnot\u001b[39;00m \u001b[38;5;28misinstance\u001b[39m(arrs, \u001b[38;5;28mlist\u001b[39m):\n\u001b[0;32m    281\u001b[0m     arrs \u001b[38;5;241m=\u001b[39m [arrs]\n\u001b[1;32m--> 282\u001b[0m \u001b[38;5;28;01mreturn\u001b[39;00m _nx\u001b[38;5;241m.\u001b[39mconcatenate(arrs, \u001b[38;5;241m0\u001b[39m)\n",
      "File \u001b[1;32m<__array_function__ internals>:180\u001b[0m, in \u001b[0;36mconcatenate\u001b[1;34m(*args, **kwargs)\u001b[0m\n",
      "\u001b[1;31mMemoryError\u001b[0m: Unable to allocate 700. MiB for an array with shape (2720, 150, 150, 3) and data type float32"
     ]
    }
   ],
   "source": [
    "datagen = ImageDataGenerator(rescale=1./255)\n",
    "\n",
    "# Load the images from the dataset directory\n",
    "data_generator = datagen.flow_from_directory(\n",
    "    dataset_dir,\n",
    "    target_size=(150, 150),\n",
    "    batch_size=32,\n",
    "    class_mode='categorical',\n",
    "    shuffle=True,\n",
    "    seed=42\n",
    ")\n",
    "\n",
    "# Retrieve a batch of images and labels\n",
    "x_data, y_data = next(data_generator)\n",
    "\n",
    "# Loop through all batches and combine them into one dataset\n",
    "for _ in range(data_generator.samples // data_generator.batch_size - 1):\n",
    "    x_batch, y_batch = next(data_generator)\n",
    "    x_data = np.vstack((x_data, x_batch))\n",
    "    y_data = np.vstack((y_data, y_batch))"
   ]
  },
  {
   "cell_type": "markdown",
   "id": "f5b17dea",
   "metadata": {},
   "source": [
    "#### Explanation:\n",
    "\n",
    "##### next(data_generator): \n",
    "Retrieves a batch of images and labels.\n",
    "#### np.vstack: \n",
    "Vertically stacks batches of images and labels to form a complete dataset"
   ]
  },
  {
   "cell_type": "markdown",
   "id": "9c08c035",
   "metadata": {},
   "source": [
    "### Split the Data into Training and Validation Sets"
   ]
  },
  {
   "cell_type": "code",
   "execution_count": null,
   "id": "b33177d7",
   "metadata": {},
   "outputs": [],
   "source": [
    "# Split the data into training and validation sets\n",
    "x_train, x_val, y_train, y_val = train_test_split(x_data, y_data, test_size=0.2, random_state=42)"
   ]
  },
  {
   "cell_type": "markdown",
   "id": "bd676db3",
   "metadata": {},
   "source": [
    "### Explanation:\n",
    "\n",
    "train_test_split: Splits the dataset into training (80%) and validation (20%) sets."
   ]
  },
  {
   "cell_type": "markdown",
   "id": "b29c4cc2",
   "metadata": {},
   "source": [
    "### Define the Model"
   ]
  },
  {
   "cell_type": "code",
   "execution_count": null,
   "id": "5c364d64",
   "metadata": {},
   "outputs": [],
   "source": [
    "def build_model(optimizer):\n",
    "    model = Sequential([\n",
    "        Flatten(input_shape=(150, 150, 3)),\n",
    "        Dense(128, activation='relu'),\n",
    "        Dense(4, activation='softmax')  # 4 classes\n",
    "    ])\n",
    "    model.compile(optimizer=optimizer, loss='categorical_crossentropy', metrics=['accuracy'])\n",
    "    return model"
   ]
  },
  {
   "cell_type": "markdown",
   "id": "057686ad",
   "metadata": {},
   "source": [
    "## Explanation:\n",
    "\n",
    "Sequential: Defines a linear stack of layers.\n",
    "Flatten: Flattens the input image to a 1D vector.\n",
    "Dense: Fully connected layers; the final layer uses softmax to output probabilities for 5 classes.\n",
    "compile: Configures the model with the chosen optimizer and loss function."
   ]
  },
  {
   "cell_type": "markdown",
   "id": "7e938757",
   "metadata": {},
   "source": [
    "### Train and Evaluate with Different Optimizers"
   ]
  },
  {
   "cell_type": "code",
   "execution_count": null,
   "id": "3fd84e89",
   "metadata": {},
   "outputs": [],
   "source": [
    "# List of optimizers to test\n",
    "optimizers = {\n",
    "    'Adam': Adam(),\n",
    "    'SGD': SGD(),\n",
    "    'RMSprop': RMSprop(),\n",
    "    'Adagrad': Adagrad(),\n",
    "    'Nadam': Nadam()\n",
    "}\n",
    "\n",
    "# Dictionary to store the results\n",
    "results = {}\n",
    "\n",
    "# Train and evaluate with each optimizer\n",
    "for name, optimizer in optimizers.items():\n",
    "    print(f\"Testing optimizer: {name}\")\n",
    "    model = build_model(optimizer)\n",
    "    history = model.fit(\n",
    "        x_train, y_train,\n",
    "        epochs=5,\n",
    "        validation_data=(x_val, y_val),\n",
    "        verbose=1\n",
    "    )\n",
    "    accuracy = history.history['val_accuracy'][-1]\n",
    "    results[name] = accuracy\n",
    "    print(f\"Accuracy with {name}: {accuracy * 100:.2f}%\")"
   ]
  },
  {
   "cell_type": "markdown",
   "id": "d5da86b3",
   "metadata": {},
   "source": [
    "### Explanation:\n",
    "\n",
    "optimizers: <br>Dictionary of different optimizers to test.<br>\n",
    "build_model: <br>Creates a new model instance with the specified optimizer.<br>\n",
    "model.fit: <br>Trains the model on the training data and validates on the validation data.<br>\n",
    "\n",
    "history.history['val_accuracy']: <br>Retrieves the final validation accuracy."
   ]
  },
  {
   "cell_type": "code",
   "execution_count": 21,
   "id": "bd3e3a61",
   "metadata": {},
   "outputs": [
    {
     "data": {
      "image/png": "[encoded data removed]",
      "text/plain": [
       "<Figure size 1000x600 with 1 Axes>"
      ]
     },
     "metadata": {},
     "output_type": "display_data"
    }
   ],
   "source": [
    "# Plot the results\n",
    "plt.figure(figsize=(10, 6))\n",
    "plt.bar(results.keys(), [v * 100 for v in results.values()])\n",
    "plt.xlabel('Optimizer')\n",
    "plt.ylabel('Validation Accuracy (%)')\n",
    "plt.title('Comparison of Optimizers')\n",
    "plt.show()"
   ]
  },
  {
   "cell_type": "markdown",
   "id": "fc9c64a4",
   "metadata": {},
   "source": [
    "### Explanation:\n",
    "\n",
    "plt.bar: Creates a bar plot comparing the validation accuracies of different optimizers.\n",
    "plt.show(): Displays the plot."
   ]
  },
  {
   "cell_type": "markdown",
   "id": "5f68b801",
   "metadata": {},
   "source": [
    "### Full Code Summary"
   ]
  },
  {
   "cell_type": "code",
   "execution_count": 25,
   "id": "ebc07dbe",
   "metadata": {},
   "outputs": [
    {
     "name": "stdout",
     "output_type": "stream",
     "text": [
      "Found 5631 images belonging to 4 classes.\n"
     ]
    },
    {
     "ename": "MemoryError",
     "evalue": "Unable to allocate 206. MiB for an array with shape (800, 150, 150, 3) and data type float32",
     "output_type": "error",
     "traceback": [
      "\u001b[1;31m---------------------------------------------------------------------------\u001b[0m",
      "\u001b[1;31mMemoryError\u001b[0m                               Traceback (most recent call last)",
      "Cell \u001b[1;32mIn[25], line 30\u001b[0m\n\u001b[0;32m     28\u001b[0m \u001b[38;5;28;01mfor\u001b[39;00m _ \u001b[38;5;129;01min\u001b[39;00m \u001b[38;5;28mrange\u001b[39m(data_generator\u001b[38;5;241m.\u001b[39msamples \u001b[38;5;241m/\u001b[39m\u001b[38;5;241m/\u001b[39m data_generator\u001b[38;5;241m.\u001b[39mbatch_size \u001b[38;5;241m-\u001b[39m \u001b[38;5;241m1\u001b[39m):\n\u001b[0;32m     29\u001b[0m     x_batch, y_batch \u001b[38;5;241m=\u001b[39m \u001b[38;5;28mnext\u001b[39m(data_generator)\n\u001b[1;32m---> 30\u001b[0m     x_data \u001b[38;5;241m=\u001b[39m np\u001b[38;5;241m.\u001b[39mvstack((x_data, x_batch))\n\u001b[0;32m     31\u001b[0m     y_data \u001b[38;5;241m=\u001b[39m np\u001b[38;5;241m.\u001b[39mvstack((y_data, y_batch))\n\u001b[0;32m     33\u001b[0m \u001b[38;5;66;03m# Split the data into training and validation sets\u001b[39;00m\n",
      "File \u001b[1;32m<__array_function__ internals>:180\u001b[0m, in \u001b[0;36mvstack\u001b[1;34m(*args, **kwargs)\u001b[0m\n",
      "File \u001b[1;32m~\\anaconda3\\Lib\\site-packages\\numpy\\core\\shape_base.py:282\u001b[0m, in \u001b[0;36mvstack\u001b[1;34m(tup)\u001b[0m\n\u001b[0;32m    280\u001b[0m \u001b[38;5;28;01mif\u001b[39;00m \u001b[38;5;129;01mnot\u001b[39;00m \u001b[38;5;28misinstance\u001b[39m(arrs, \u001b[38;5;28mlist\u001b[39m):\n\u001b[0;32m    281\u001b[0m     arrs \u001b[38;5;241m=\u001b[39m [arrs]\n\u001b[1;32m--> 282\u001b[0m \u001b[38;5;28;01mreturn\u001b[39;00m _nx\u001b[38;5;241m.\u001b[39mconcatenate(arrs, \u001b[38;5;241m0\u001b[39m)\n",
      "File \u001b[1;32m<__array_function__ internals>:180\u001b[0m, in \u001b[0;36mconcatenate\u001b[1;34m(*args, **kwargs)\u001b[0m\n",
      "\u001b[1;31mMemoryError\u001b[0m: Unable to allocate 206. MiB for an array with shape (800, 150, 150, 3) and data type float32"
     ]
    }
   ],
   "source": [
    "import tensorflow as tf\n",
    "from tensorflow.keras.preprocessing.image import ImageDataGenerator\n",
    "from tensorflow.keras.models import Sequential\n",
    "from tensorflow.keras.layers import Dense, Flatten\n",
    "from tensorflow.keras.optimizers import Adam, SGD, RMSprop, Adagrad, Nadam\n",
    "import matplotlib.pyplot as plt\n",
    "\n",
    "# Define the path to your dataset directory\n",
    "dataset_dir = \"D:\\ML A-Z\\DataSets\\satellite image Classes\"\n",
    "\n",
    "# Create an ImageDataGenerator for loading and normalizing images\n",
    "datagen = ImageDataGenerator(rescale=1./255)\n",
    "\n",
    "# Load the images from the dataset directory\n",
    "data_generator = datagen.flow_from_directory(\n",
    "    dataset_dir,\n",
    "    target_size=(150, 150),\n",
    "    batch_size=32,\n",
    "    class_mode='categorical',\n",
    "    shuffle=True,\n",
    "    seed=42\n",
    ")\n",
    "\n",
    "# Retrieve a batch of images and labels\n",
    "x_data, y_data = next(data_generator)\n",
    "\n",
    "# Loop through all batches and combine them into one dataset\n",
    "for _ in range(data_generator.samples // data_generator.batch_size - 1):\n",
    "    x_batch, y_batch = next(data_generator)\n",
    "    x_data = np.vstack((x_data, x_batch))\n",
    "    y_data = np.vstack((y_data, y_batch))\n",
    "\n",
    "# Split the data into training and validation sets\n",
    "x_train, x_val, y_train, y_val = train_test_split(x_data, y_data, test_size=0.2, random_state=42)\n",
    "\n",
    "# Define a function to build the model\n",
    "def build_model(optimizer):\n",
    "    model = Sequential([\n",
    "        Flatten(input_shape=(150, 150, 3)),\n",
    "        Dense(128, activation='relu'),\n",
    "        Dense(4, activation='softmax')  # 5 classes\n",
    "    ])\n",
    "    model.compile(optimizer=optimizer, loss='categorical_crossentropy', metrics=['accuracy'])\n",
    "    return model\n",
    "\n",
    "# List of optimizers to test\n",
    "optimizers = {\n",
    "    'Adam': Adam(),\n",
    "    'SGD': SGD(),\n",
    "    'RMSprop': RMSprop(),\n",
    "    'Adagrad': Adagrad(),\n",
    "    'Nadam': Nadam()\n",
    "}\n",
    "\n",
    "# Dictionary to store the results\n",
    "results = {}\n",
    "\n",
    "# Train and evaluate with each optimizer\n",
    "for name, optimizer in optimizers.items():\n",
    "    print(f\"Testing optimizer: {name}\")\n",
    "    model = build_model(optimizer)\n",
    "    history = model.fit(\n",
    "        x_train, y_train,\n",
    "        epochs=5,\n",
    "        validation_data=(x_val, y_val),\n",
    "        verbose=1\n",
    "    )\n",
    "    accuracy = history.history['val_accuracy'][-1]\n",
    "    results[name] = accuracy\n",
    "    print(f\"Accuracy with {name}: {accuracy * 100:.2f}%\")\n",
    "\n",
    "# Plot the results\n",
    "plt.figure(figsize=(10, 6))\n",
    "plt.bar(results.keys(), [v * 100 for v in results.values()])\n",
    "plt.xlabel('Optimizer')\n",
    "plt.ylabel('Validation Accuracy (%)')\n",
    "plt.title('Comparison of Optimizers')\n",
    "plt.show()"
   ]
  },
  {
   "cell_type": "code",
   "execution_count": 24,
   "id": "cf339d77",
   "metadata": {},
   "outputs": [
    {
     "name": "stdout",
     "output_type": "stream",
     "text": [
      "Found 5631 images belonging to 4 classes.\n",
      "Found 0 images belonging to 4 classes.\n"
     ]
    }
   ],
   "source": []
  },
  {
   "cell_type": "code",
   "execution_count": null,
   "id": "995bfaa9",
   "metadata": {},
   "outputs": [],
   "source": []
  }
 ],
 "metadata": {
  "kernelspec": {
   "display_name": "Python 3 (ipykernel)",
   "language": "python",
   "name": "python3"
  },
  "language_info": {
   "codemirror_mode": {
    "name": "ipython",
    "version": 3
   },
   "file_extension": ".py",
   "mimetype": "text/x-python",
   "name": "python",
   "nbconvert_exporter": "python",
   "pygments_lexer": "ipython3",
   "version": "3.11.3"
  }
 },
 "nbformat": 4,
 "nbformat_minor": 5
}
