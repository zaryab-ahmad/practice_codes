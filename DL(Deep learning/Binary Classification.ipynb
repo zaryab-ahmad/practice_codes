{
 "cells": [
  {
   "cell_type": "markdown",
   "id": "beee9114",
   "metadata": {},
   "source": [
    "## Binary Classification with Different Activation Functions Using CNN\n",
    "#### Explanation:\n",
    "This code performs binary classification on an image dataset using a Convolutional Neural Network (CNN) with different activation functions. It loads and preprocesses the images, creates a CNN model for each activation function, trains the model, evaluates its accuracy, and plots the results. The aim is to compare how different activation functions affect the model's performance on a binary classification task."
   ]
  },
  {
   "cell_type": "markdown",
   "id": "ca2e3907",
   "metadata": {},
   "source": [
    "## Loading All libraries which are required¶"
   ]
  },
  {
   "cell_type": "code",
   "execution_count": 1,
   "id": "281e5f00",
   "metadata": {},
   "outputs": [],
   "source": [
    "import numpy as np\n",
    "import tensorflow as tf\n",
    "from tensorflow.keras.models import Sequential\n",
    "from tensorflow.keras.layers import Dense, Flatten, Conv2D, MaxPooling2D\n",
    "from tensorflow.keras.preprocessing.image import ImageDataGenerator\n",
    "import matplotlib.pyplot as plt\n"
   ]
  },
  {
   "cell_type": "markdown",
   "id": "ba6ecceb",
   "metadata": {},
   "source": [
    "## loading the dataset\n",
    "## Initialization of ImageDataGenerator with Normalization and Validation Split\n",
    "#### rescale=1.0/255:\n",
    "This parameter scales the pixel values of the images from the range [0, 255] to [0, 1]. Pixel values in images are typically between 0 and 255. Dividing by 255 normalizes these values, which can help the neural network train more effectively and efficiently by having input values in a consistent range.\n",
    "\n",
    "#### validation_split=0.2:\n",
    "This parameter reserves 20% of the data for validation purposes. The remaining 80% will be used for training. This split is useful for assessing the model's performance on a separate subset of data that it hasn't seen during training, helping to evaluate how well the model generalizes to new data."
   ]
  },
  {
   "cell_type": "code",
   "execution_count": 2,
   "id": "0f8d4e13",
   "metadata": {},
   "outputs": [],
   "source": [
    "data_dir = \"D:\\ML A-Z\\Deep Learning\\Activation Functions\\Binary Classification\"\n",
    "\n",
    "# Image data generator with validation split\n",
    "datagen = ImageDataGenerator(rescale=1.0/255, validation_split=0.2)\n"
   ]
  },
  {
   "cell_type": "markdown",
   "id": "1d01469d",
   "metadata": {},
   "source": [
    "## Creating a Training Data Generator from Directory with Preprocessing and Batch Settings\n",
    "datagen.flow_from_directory():\n",
    "This method generates batches of images and their corresponding labels from a directory structure.\n",
    "\n",
    "#### data_dir:\n",
    "Specifies the path to the directory containing the image data organized into subdirectories by class.\n",
    "\n",
    "#### target_size=(64, 64):\n",
    "Resizes all images to 64x64 pixels. This ensures that all images have the same dimensions before feeding them into the model.\n",
    "\n",
    "#### class_mode='categorical':\n",
    "Indicates that the labels are categorical (e.g., one-hot encoded). This is used for multi-class classification problems.\n",
    "\n",
    "### subset='training':\n",
    "Specifies that this generator is for the training subset of the data, as defined by the validation_split parameter used when initializing the ImageDataGenerator."
   ]
  },
  {
   "cell_type": "code",
   "execution_count": 3,
   "id": "d617f6c1",
   "metadata": {},
   "outputs": [
    {
     "name": "stdout",
     "output_type": "stream",
     "text": [
      "Found 558 images belonging to 2 classes.\n"
     ]
    }
   ],
   "source": [
    "train_generator = datagen.flow_from_directory(\n",
    "    data_dir,\n",
    "    target_size=(64, 64),\n",
    "    batch_size=32,\n",
    "    class_mode='binary',  \n",
    "    subset='training'\n",
    ")"
   ]
  },
  {
   "cell_type": "markdown",
   "id": "ca00abfa",
   "metadata": {},
   "source": [
    "## Function to Create a Convolutional Neural Network Model with Specified Activation Function\n",
    "This function, create_model(activation), defines and compiles a Convolutional Neural Network (CNN) with the specified activation function. Here’s how it works:\n",
    "\n",
    "##### Model Initialization:\n",
    "model = Sequential(): Initializes a Sequential model, which is a linear stack of layers.\n",
    "\n",
    "##### model.add(MaxPooling2D(pool_size=(2, 2))):\n",
    "Adds a max pooling layer to reduce the spatial dimensions by taking the maximum value in a 2x2 pool.\n",
    "\n",
    "#### Additional Convolutional Layers:\n",
    "model.add(Conv2D(32, (3, 3), activation=activation)):\n",
    "Adds another convolutional layer with 32 filters of size 3x3 and the specified activation function.\n",
    "\n",
    "##### model.add(MaxPooling2D(pool_size=(2, 2))):\n",
    "Adds another max pooling layer.\n",
    "\n",
    "#### Flatten and Dense Layers:\n",
    "### model.add(Dense(64, activation=activation)):\n",
    "Adds a fully connected (dense) layer with 64 units and the specified activation function.\n",
    "\n",
    "### Output Layer:\n",
    "###### model.add(Dense(train_generator.num_classes, activation='softmax')):\n",
    "Adds a dense layer with a number of units equal to the number of classes in the dataset, using the 'softmax' activation function to output class probabilities.\n",
    "\n",
    "#### Compilation:\n",
    "model.compile(optimizer='adam', loss='categorical_crossentropy', metrics=['accuracy']): Compiles the model with the Adam optimizer, categorical cross-entropy loss function, and accuracy as the evaluation metric.\n",
    "\n",
    "##### Return:\n",
    "return model: Returns the compiled model."
   ]
  },
  {
   "cell_type": "code",
   "execution_count": 5,
   "id": "b28757f3",
   "metadata": {},
   "outputs": [],
   "source": [
    "def create_model(activation):\n",
    "    model = Sequential()\n",
    "    model.add(Conv2D(32, (3, 3), activation=activation, input_shape=(64, 64, 3)))\n",
    "    model.add(MaxPooling2D(pool_size=(2, 2)))\n",
    "    model.add(Conv2D(32, (3, 3), activation=activation))\n",
    "    model.add(MaxPooling2D(pool_size=(2, 2)))\n",
    "    model.add(Flatten())\n",
    "    model.add(Dense(64, activation=activation))\n",
    "    model.add(Dense(1, activation='sigmoid'))  # Change to sigmoid for binary classification\n",
    "    model.compile(optimizer='adam', loss='binary_crossentropy', metrics=['accuracy'])  # Change loss to binary_crossentropy\n",
    "    return model"
   ]
  },
  {
   "cell_type": "markdown",
   "id": "423e631a",
   "metadata": {},
   "source": [
    "## Creating a Validation Data Generator from Directory with Preprocessing and Batch Settings\n",
    "This line of code sets up a data generator for validation by reading and preprocessing images from a  specified directory:\n",
    "\n",
    "### datagen.flow_from_directory():\n",
    "This method generates batches of images and labels from a directory structure.\n",
    "\n",
    "#### data_dir:\n",
    "Path to the directory containing the image dataset organized into subdirectories by class.\n",
    "\n",
    "#### target_size=(64, 64):\n",
    "Resizes all images to 64x64 pixels to ensure uniform input size for the model.\n",
    "\n",
    "#### batch_size=32:\n",
    "Specifies the number of images to be included in each batch for validation.\n",
    "\n",
    "#### class_mode='categorical':\n",
    "Indicates that labels are categorical (one-hot encoded), suitable for multi-class classification.\n",
    "\n",
    "#### subset='validation':\n",
    "Indicates that this generator is for the validation subset of the data, as defined by the validation_split parameter in the ImageDataGenerator."
   ]
  },
  {
   "cell_type": "code",
   "execution_count": 10,
   "id": "81b15653",
   "metadata": {},
   "outputs": [
    {
     "name": "stdout",
     "output_type": "stream",
     "text": [
      "Found 138 images belonging to 2 classes.\n"
     ]
    }
   ],
   "source": [
    "validation_generator = datagen.flow_from_directory(\n",
    "    data_dir,\n",
    "    target_size=(64, 64),\n",
    "    batch_size=32,\n",
    "    class_mode='binary',  # Change to binary\n",
    "    subset='validation'\n",
    ")"
   ]
  },
  {
   "cell_type": "code",
   "execution_count": 6,
   "id": "dffafc23",
   "metadata": {},
   "outputs": [],
   "source": [
    "activation_functions = ['relu', 'sigmoid', 'tanh', 'elu', 'selu', 'softplus', 'softsign', 'exponential', 'swish', 'hard_sigmoid']\n"
   ]
  },
  {
   "cell_type": "code",
   "execution_count": 11,
   "id": "656ce05d",
   "metadata": {},
   "outputs": [
    {
     "name": "stdout",
     "output_type": "stream",
     "text": [
      "Training with activation function: relu\n",
      "Accuracy with relu: 0.9420\n",
      "Training with activation function: sigmoid\n",
      "Accuracy with sigmoid: 0.5145\n",
      "Training with activation function: tanh\n",
      "Accuracy with tanh: 0.9130\n",
      "Training with activation function: elu\n",
      "Accuracy with elu: 0.9130\n",
      "Training with activation function: selu\n",
      "Accuracy with selu: 0.9493\n",
      "Training with activation function: softplus\n",
      "Accuracy with softplus: 0.5145\n",
      "Training with activation function: softsign\n",
      "Accuracy with softsign: 0.9130\n",
      "Training with activation function: exponential\n",
      "Accuracy with exponential: 0.5145\n",
      "Training with activation function: swish\n",
      "Accuracy with swish: 0.9130\n",
      "Training with activation function: hard_sigmoid\n",
      "Accuracy with hard_sigmoid: 0.5145\n"
     ]
    }
   ],
   "source": [
    "results = {}\n",
    "\n",
    "# Loop through the activation functions\n",
    "for activation in activation_functions:\n",
    "    print(f\"Training with activation function: {activation}\")\n",
    "    model = create_model(activation)\n",
    "    model.fit(train_generator, epochs=5, validation_data=validation_generator, verbose=0)  # Adjust epochs as needed\n",
    "    \n",
    "    # Evaluate the model\n",
    "    loss, accuracy = model.evaluate(validation_generator, verbose=0)\n",
    "    results[activation] = accuracy\n",
    "    print(f\"Accuracy with {activation}: {accuracy:.4f}\")"
   ]
  },
  {
   "cell_type": "code",
   "execution_count": 12,
   "id": "76ed632d",
   "metadata": {},
   "outputs": [
    {
     "name": "stdout",
     "output_type": "stream",
     "text": [
      "\n",
      "Final Results:\n",
      "relu: 0.9420\n",
      "sigmoid: 0.5145\n",
      "tanh: 0.9130\n",
      "elu: 0.9130\n",
      "selu: 0.9493\n",
      "softplus: 0.5145\n",
      "softsign: 0.9130\n",
      "exponential: 0.5145\n",
      "swish: 0.9130\n",
      "hard_sigmoid: 0.5145\n"
     ]
    }
   ],
   "source": [
    "print(\"\\nFinal Results:\")\n",
    "for activation, accuracy in results.items():\n",
    "    print(f\"{activation}: {accuracy:.4f}\")"
   ]
  },
  {
   "cell_type": "code",
   "execution_count": 13,
   "id": "aac09b31",
   "metadata": {},
   "outputs": [
    {
     "data": {
      "image/png": "[encoded data removed]",
      "text/plain": [
       "<Figure size 1200x800 with 1 Axes>"
      ]
     },
     "metadata": {},
     "output_type": "display_data"
    }
   ],
   "source": [
    "plt.figure(figsize=(12, 8))\n",
    "plt.bar(results.keys(), results.values(), color='skyblue')\n",
    "plt.xlabel('Activation Functions')\n",
    "plt.ylabel('Accuracy')\n",
    "plt.title('Accuracy of Different Activation Functions for Binary Classification')\n",
    "plt.ylim(0, 1)  # Assuming accuracy values are between 0 and 1\n",
    "plt.xticks(rotation=45)\n",
    "plt.show()"
   ]
  },
  {
   "cell_type": "code",
   "execution_count": null,
   "id": "3a36f59e",
   "metadata": {},
   "outputs": [],
   "source": []
  }
 ],
 "metadata": {
  "kernelspec": {
   "display_name": "Python 3 (ipykernel)",
   "language": "python",
   "name": "python3"
  },
  "language_info": {
   "codemirror_mode": {
    "name": "ipython",
    "version": 3
   },
   "file_extension": ".py",
   "mimetype": "text/x-python",
   "name": "python",
   "nbconvert_exporter": "python",
   "pygments_lexer": "ipython3",
   "version": "3.11.3"
  }
 },
 "nbformat": 4,
 "nbformat_minor": 5
}
