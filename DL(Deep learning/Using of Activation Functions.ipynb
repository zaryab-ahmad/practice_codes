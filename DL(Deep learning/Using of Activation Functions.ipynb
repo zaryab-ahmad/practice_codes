{
 "cells": [
  {
   "cell_type": "markdown",
   "id": "623e13d6",
   "metadata": {},
   "source": [
    "# Evaluating Different Activation Functions in a CNN on Image Data\n",
    "This code evaluates the performance of 10 different activation functions in a Convolutional Neural Network (CNN) using an image dataset. It uses ImageDataGenerator to load and preprocess images with a training-validation split. The CNN is built and compiled with each activation function, trained for a specified number of epochs, and evaluated on the validation set. The accuracy for each activation function is recorded and plotted using a bar chart for comparison. This helps determine the most effective activation function for the given image classification task.\n"
   ]
  },
  {
   "cell_type": "markdown",
   "id": "af9ad126",
   "metadata": {},
   "source": [
    "## Loading All libraries which are required"
   ]
  },
  {
   "cell_type": "code",
   "execution_count": 13,
   "id": "5a13f42b",
   "metadata": {},
   "outputs": [],
   "source": [
    "import numpy as np \n",
    "import pandas as pd \n",
    "import tensorflow as tf \n",
    "from  tensorflow.keras.models  import Sequential \n",
    "from tensorflow.keras.utils import to_categorical\n",
    "from tensorflow.keras.layers import Dense, Flatten, Conv2D, MaxPooling2D\n",
    "from tensorflow.keras.preprocessing.image import ImageDataGenerator\n",
    "from sklearn.preprocessing import StandardScaler\n",
    "from sklearn.metrics import accuracy_score\n",
    "import matplotlib.pyplot as plt\n"
   ]
  },
  {
   "cell_type": "markdown",
   "id": "df237b9d",
   "metadata": {},
   "source": [
    "### LOading the dataset"
   ]
  },
  {
   "cell_type": "code",
   "execution_count": 5,
   "id": "c6a853bc",
   "metadata": {},
   "outputs": [],
   "source": [
    "data_dir = \"D:\\ML A-Z\\Deep Learning\\Activation Functions\\Image Classification\"\n"
   ]
  },
  {
   "cell_type": "markdown",
   "id": "a4ac8260",
   "metadata": {},
   "source": [
    "## Initialization of ImageDataGenerator with Normalization and Validation Split\n",
    "### rescale=1.0/255:\n",
    "\n",
    "This parameter scales the pixel values of the images from the range [0, 255] to [0, 1]. Pixel values in images are typically between 0 and 255. Dividing by 255 normalizes these values, which can help the neural network train more effectively and efficiently by having input values in a consistent range.\n",
    "### validation_split=0.2:\n",
    "\n",
    "This parameter reserves 20% of the data for validation purposes. The remaining 80% will be used for training. This split is useful for assessing the model's performance on a separate subset of data that it hasn't seen during training, helping to evaluate how well the model generalizes to new data."
   ]
  },
  {
   "cell_type": "code",
   "execution_count": 6,
   "id": "fa6c0e1f",
   "metadata": {},
   "outputs": [],
   "source": [
    "\n",
    "datagen = ImageDataGenerator(rescale=1.0/255, validation_split=0.2)"
   ]
  },
  {
   "cell_type": "markdown",
   "id": "5c458345",
   "metadata": {},
   "source": [
    "## Creating a Training Data Generator from Directory with Preprocessing and Batch Settings\n",
    "#### datagen.flow_from_directory():\n",
    "\n",
    "This method generates batches of images and their corresponding labels from a directory structure.\n",
    "### data_dir:\n",
    "\n",
    "Specifies the path to the directory containing the image data organized into subdirectories by class.\n",
    "#### target_size=(64, 64):\n",
    "\n",
    "Resizes all images to 64x64 pixels. This ensures that all images have the same dimensions before feeding them into the model.\n",
    "#### batch_size=32:\n",
    "\n",
    "Determines the number of images to be included in each batch. Training the model in batches helps manage memory usage and speeds up the training process.\n",
    "#### class_mode='categorical':\n",
    "\n",
    "Indicates that the labels are categorical (e.g., one-hot encoded). This is used for multi-class classification problems.\n",
    "##### subset='training':\n",
    "\n",
    "Specifies that this generator is for the training subset of the data, as defined by the validation_split parameter used when initializing the ImageDataGenerator."
   ]
  },
  {
   "cell_type": "code",
   "execution_count": 7,
   "id": "8b875fac",
   "metadata": {},
   "outputs": [
    {
     "name": "stdout",
     "output_type": "stream",
     "text": [
      "Found 774 images belonging to 3 classes.\n"
     ]
    }
   ],
   "source": [
    "train_generator = datagen.flow_from_directory(\n",
    "    data_dir,\n",
    "    target_size=(64, 64),\n",
    "    batch_size=32,\n",
    "    class_mode='categorical',\n",
    "    subset='training'\n",
    ")"
   ]
  },
  {
   "cell_type": "markdown",
   "id": "866c1ad6",
   "metadata": {},
   "source": [
    "## Creating a Validation Data Generator from Directory with Preprocessing and Batch Settings\n",
    "This line of code sets up a data generator for validation by reading and preprocessing images from a specified directory:\n",
    "\n",
    "### datagen.flow_from_directory():\n",
    "\n",
    "This method generates batches of images and labels from a directory structure.\n",
    "#### data_dir:\n",
    "\n",
    "Path to the directory containing the image dataset organized into subdirectories by class.\n",
    "#### target_size=(64, 64):\n",
    "\n",
    "Resizes all images to 64x64 pixels to ensure uniform input size for the model.\n",
    "##### batch_size=32:\n",
    "\n",
    "Specifies the number of images to be included in each batch for validation.\n",
    "#### class_mode='categorical':\n",
    "\n",
    "Indicates that labels are categorical (one-hot encoded), suitable for multi-class classification.\n",
    "#### subset='validation':\n",
    "\n",
    "Indicates that this generator is for the validation subset of the data, as defined by the validation_split parameter in the ImageDataGenerator."
   ]
  },
  {
   "cell_type": "code",
   "execution_count": 8,
   "id": "4c7e5b53",
   "metadata": {},
   "outputs": [
    {
     "name": "stdout",
     "output_type": "stream",
     "text": [
      "Found 191 images belonging to 3 classes.\n"
     ]
    }
   ],
   "source": [
    "validation_generator = datagen.flow_from_directory(\n",
    "    data_dir,\n",
    "    target_size=(64, 64),\n",
    "    batch_size=32,\n",
    "    class_mode='categorical',\n",
    "    subset='validation'\n",
    ")"
   ]
  },
  {
   "cell_type": "markdown",
   "id": "4b2e41fb",
   "metadata": {},
   "source": [
    "## Function to Create a Convolutional Neural Network Model with Specified Activation Function\n",
    "This function, create_model(activation), defines and compiles a Convolutional Neural Network (CNN) with the specified activation function. Here’s how it works:\n",
    "\n",
    "### Model Initialization:\n",
    "\n",
    "model = Sequential(): Initializes a Sequential model, which is a linear stack of layers.\n",
    "### Convolutional Layers:\n",
    "\n",
    "#### model.add(Conv2D(32, (3, 3), activation=activation, input_shape=(64, 64, 3))): \n",
    "Adds a 2D convolutional layer with 32 filters of size 3x3, using the specified activation function. The input_shape parameter defines the shape of the input images (64x64 pixels with 3 color channels).\n",
    "#### model.add(MaxPooling2D(pool_size=(2, 2))): \n",
    "Adds a max pooling layer to reduce the spatial dimensions by taking the maximum value in a 2x2 pool.\n",
    "#### Additional Convolutional Layers:\n",
    "\n",
    "#### model.add(Conv2D(32, (3, 3), activation=activation)): \n",
    "Adds another convolutional layer with 32 filters of size 3x3 and the specified activation function.\n",
    "#### model.add(MaxPooling2D(pool_size=(2, 2))): \n",
    "Adds another max pooling layer.\n",
    "### Flatten and Dense Layers:\n",
    "\n",
    "### model.add(Flatten()):\n",
    "Flattens the 3D output from the convolutional layers into a 1D vector.\n",
    "#### model.add(Dense(64, activation=activation)):\n",
    "Adds a fully connected (dense) layer with 64 units and the specified activation function.\n",
    "#### Output Layer:\n",
    "\n",
    "##### model.add(Dense(train_generator.num_classes, activation='softmax')): \n",
    "Adds a dense layer with a number of units equal to the number of classes in the dataset, using the 'softmax' activation function to output class probabilities.\n",
    "#### Compilation:\n",
    "\n",
    "model.compile(optimizer='adam', loss='categorical_crossentropy', metrics=['accuracy']): Compiles the model with the Adam optimizer, categorical cross-entropy loss function, and accuracy as the evaluation metric.\n",
    "#### Return:\n",
    "\n",
    "return model: Returns the compiled model."
   ]
  },
  {
   "cell_type": "code",
   "execution_count": 9,
   "id": "967e76da",
   "metadata": {},
   "outputs": [],
   "source": [
    "def create_model(activation):\n",
    "    model = Sequential()\n",
    "    model.add(Conv2D(32, (3, 3), activation=activation, input_shape=(64, 64, 3)))\n",
    "    model.add(MaxPooling2D(pool_size=(2, 2)))\n",
    "    model.add(Conv2D(32, (3, 3), activation=activation))\n",
    "    model.add(MaxPooling2D(pool_size=(2, 2)))\n",
    "    model.add(Flatten())\n",
    "    model.add(Dense(64, activation=activation))\n",
    "    model.add(Dense(train_generator.num_classes, activation='softmax'))\n",
    "    model.compile(optimizer='adam', loss='categorical_crossentropy', metrics=['accuracy'])\n",
    "    return model"
   ]
  },
  {
   "cell_type": "markdown",
   "id": "da1b5c7e",
   "metadata": {},
   "source": [
    "## List of Activation Functions for Experimentation\n",
    "This line of code defines a list of activation functions to be used in a neural network. Each activation function serves a different purpose in introducing non-linearity into the model:\n",
    "\n",
    "#### 'relu':\n",
    "Rectified Linear Unit - Outputs the input directly if it is positive; otherwise, it outputs zero. Commonly used due to its simplicity and effectiveness.\n",
    "#### 'sigmoid': \n",
    "Sigmoid - Maps input to a value between 0 and 1, useful for binary classification tasks.\n",
    "#### 'tanh': \n",
    "Hyperbolic Tangent - Maps input to a value between -1 and 1, often used in hidden layers to introduce non-linearity.\n",
    "#### 'elu': \n",
    "Exponential Linear Unit - Similar to ReLU but allows for negative outputs, which can help with training deep networks.\n",
    "#### 'selu':\n",
    "Scaled Exponential Linear Unit - An activation function that self-normalizes activations and can improve learning speed and performance.\n",
    "#### 'softplus':\n",
    "Softplus - Smooth approximation to ReLU that outputs values between 0 and positive infinity.\n",
    "##### 'softsign':\n",
    "Softsign - Maps input to a value between -1 and 1, smoother than tanh.\n",
    "### 'exponential':\n",
    "Exponential - Outputs the exponential of the input, which can result in very large outputs.\n",
    "#### 'swish':\n",
    "Swish - A smooth, non-monotonic activation function that has been shown to improve performance in some cases.\n",
    "#### 'hard_sigmoid':\n",
    "Hard Sigmoid - A computationally efficient approximation of the sigmoid function, faster but less accurate."
   ]
  },
  {
   "cell_type": "code",
   "execution_count": 15,
   "id": "c7245fe6",
   "metadata": {},
   "outputs": [],
   "source": [
    "activation_functions = ['relu', 'sigmoid', 'tanh', 'elu', 'selu', 'softplus', 'softsign', 'exponential', 'swish', 'hard_sigmoid']\n"
   ]
  },
  {
   "cell_type": "markdown",
   "id": "623b2619",
   "metadata": {},
   "source": [
    "## Training and Evaluating Models with Different Activation Functions\n",
    "This code snippet trains and evaluates a neural network model using different activation functions. #### Here's a breakdown of the process:\n",
    "\n",
    "#### results = {}:\n",
    "\n",
    "Initializes an empty dictionary to store the accuracy results for each activation function.\n",
    "#### Loop through Activation Functions:\n",
    "\n",
    "The for activation in activation_functions: loop iterates through each activation function specified in the activation_functions list.\n",
    "#### Model Training:\n",
    "\n",
    "#### model = create_model(activation): \n",
    "Creates a new model using the current activation function.\n",
    "##### model.fit(train_generator, epochs=5, validation_data=validation_generator, verbose=0): \n",
    "Trains the model on the training data for 5 epochs, using the validation data to monitor performance. The verbose=0 argument suppresses detailed training output.\n",
    "#### Model Evaluation:\n",
    "\n",
    "loss, accuracy = model.evaluate(validation_generator, verbose=0): Evaluates the model on the validation data and retrieves the loss and accuracy metrics. verbose=0 suppresses detailed output.\n",
    "#### Storing Results:\n",
    "\n",
    "#### results[activation] = accuracy:\n",
    "Stores the accuracy for the current activation function in the results dictionary.\n",
    "##### print(f\"Accuracy with {activation}: {accuracy:.4f}\"):\n",
    "Prints the accuracy of the model with the current activation function to the console."
   ]
  },
  {
   "cell_type": "code",
   "execution_count": 18,
   "id": "e1284b11",
   "metadata": {},
   "outputs": [
    {
     "name": "stdout",
     "output_type": "stream",
     "text": [
      "Training with activation function: relu\n",
      "Accuracy with relu: 0.9634\n",
      "Training with activation function: sigmoid\n",
      "Accuracy with sigmoid: 0.7382\n",
      "Training with activation function: tanh\n",
      "Accuracy with tanh: 0.8848\n",
      "Training with activation function: elu\n",
      "Accuracy with elu: 0.9529\n",
      "Training with activation function: selu\n",
      "Accuracy with selu: 0.8901\n",
      "Training with activation function: softplus\n",
      "Accuracy with softplus: 0.7382\n",
      "Training with activation function: softsign\n",
      "Accuracy with softsign: 0.9634\n",
      "Training with activation function: exponential\n",
      "Accuracy with exponential: 0.6492\n",
      "Training with activation function: swish\n",
      "Accuracy with swish: 0.9424\n",
      "Training with activation function: hard_sigmoid\n",
      "Accuracy with hard_sigmoid: 0.3717\n"
     ]
    }
   ],
   "source": [
    "\n",
    "results = {}\n",
    "\n",
    "# Loop through the activation functions\n",
    "for activation in activation_functions:\n",
    "    print(f\"Training with activation function: {activation}\")\n",
    "    model = create_model(activation)\n",
    "    model.fit(train_generator, epochs=5, validation_data=validation_generator, verbose=0)  # Adjust epochs as needed\n",
    "    \n",
    "    # Evaluate the model\n",
    "    loss, accuracy = model.evaluate(validation_generator, verbose=0)\n",
    "    results[activation] = accuracy\n",
    "    print(f\"Accuracy with {activation}: {accuracy:.4f}\")\n"
   ]
  },
  {
   "cell_type": "markdown",
   "id": "94085526",
   "metadata": {},
   "source": [
    "## Displaying Final Accuracy Results for Different Activation Functions\n",
    "This code snippet prints out the final accuracy results for each activation function evaluated:\n",
    "\n",
    "## print(\"\\nFinal Results:\"):\n",
    "\n",
    "Prints a header to indicate the beginning of the final results section.\n",
    "### Loop through Results:\n",
    "\n",
    "#### for activation, accuracy in results.items():\n",
    "### Print Results:\n",
    "\n",
    "### print(f\"{activation}: {accuracy:.4f}\"):\n",
    "Prints the activation function name and its accuracy, formatted to four decimal places."
   ]
  },
  {
   "cell_type": "code",
   "execution_count": 19,
   "id": "db116e01",
   "metadata": {},
   "outputs": [
    {
     "name": "stdout",
     "output_type": "stream",
     "text": [
      "\n",
      "Final Results:\n",
      "relu: 0.9634\n",
      "sigmoid: 0.7382\n",
      "tanh: 0.8848\n",
      "elu: 0.9529\n",
      "selu: 0.8901\n",
      "softplus: 0.7382\n",
      "softsign: 0.9634\n",
      "exponential: 0.6492\n",
      "swish: 0.9424\n",
      "hard_sigmoid: 0.3717\n"
     ]
    }
   ],
   "source": [
    "\n",
    "print(\"\\nFinal Results:\")\n",
    "for activation, accuracy in results.items():\n",
    "    print(f\"{activation}: {accuracy:.4f}\")"
   ]
  },
  {
   "cell_type": "markdown",
   "id": "8308cfcf",
   "metadata": {},
   "source": [
    "### plt.figure(figsize=(10, 6)):\n",
    "\n",
    "Creates a new figure with a specified size of 10x6 inches for the plot.\n",
    "### plt.bar(results.keys(), results.values(), color='skyblue'):\n",
    "\n",
    "Creates a bar chart where the x-axis represents the activation functions (keys from the results dictionary) and the y-axis represents their corresponding accuracies (values from the results dictionary). The bars are colored sky blue.\n",
    "#### plt.xlabel('Activation Functions'):\n",
    "\n",
    "Sets the label for the x-axis to \"Activation Functions\".\n",
    "#### plt.ylabel('Accuracy'):\n",
    "\n",
    "Sets the label for the y-axis to \"Accuracy\".\n",
    "#### plt.title('Accuracy of Different Activation Functions'):\n",
    "\n",
    "Sets the title of the plot to \"Accuracy of Different Activation Functions\".\n",
    "#### plt.ylim(0, 1):\n",
    "\n",
    "Sets the y-axis limits from 0 to 1, assuming accuracy values fall within this range.\n",
    "### plt.xticks(rotation=45):\n",
    "\n",
    "Rotates the x-axis labels by 45 degrees to improve readability, especially if there are many activation functions.\n",
    "#### plt.show():\n",
    "\n",
    "Displays the plot."
   ]
  },
  {
   "cell_type": "code",
   "execution_count": 20,
   "id": "c3c2acd1",
   "metadata": {},
   "outputs": [
    {
     "data": {
      "image/png": "[encoded data removed]",
      "text/plain": [
       "<Figure size 1000x600 with 1 Axes>"
      ]
     },
     "metadata": {},
     "output_type": "display_data"
    }
   ],
   "source": [
    "plt.figure(figsize=(10, 6))\n",
    "plt.bar(results.keys(), results.values(), color='skyblue')\n",
    "plt.xlabel('Activation Functions')\n",
    "plt.ylabel('Accuracy')\n",
    "plt.title('Accuracy of Different Activation Functions')\n",
    "plt.ylim(0, 1)  # Assuming accuracy values are between 0 and 1\n",
    "plt.xticks(rotation=45)\n",
    "plt.show()"
   ]
  },
  {
   "cell_type": "code",
   "execution_count": null,
   "id": "b2d1a4e9",
   "metadata": {},
   "outputs": [],
   "source": []
  }
 ],
 "metadata": {
  "kernelspec": {
   "display_name": "Python 3 (ipykernel)",
   "language": "python",
   "name": "python3"
  },
  "language_info": {
   "codemirror_mode": {
    "name": "ipython",
    "version": 3
   },
   "file_extension": ".py",
   "mimetype": "text/x-python",
   "name": "python",
   "nbconvert_exporter": "python",
   "pygments_lexer": "ipython3",
   "version": "3.11.3"
  }
 },
 "nbformat": 4,
 "nbformat_minor": 5
}
